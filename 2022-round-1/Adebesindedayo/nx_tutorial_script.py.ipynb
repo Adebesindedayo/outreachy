{
 "cells": [
  {
   "cell_type": "code",
   "execution_count": 1,
   "id": "42443746",
   "metadata": {},
   "outputs": [],
   "source": [
    "import networkx as nx\n",
    "import matplotlib.pyplot as plt\n"
   ]
  },
  {
   "cell_type": "markdown",
   "id": "a9056ca5",
   "metadata": {},
   "source": [
    "\n",
    "Create a NetworkX DiGraph graph object\n"
   ]
  },
  {
   "cell_type": "code",
   "execution_count": 2,
   "id": "15345970",
   "metadata": {},
   "outputs": [],
   "source": [
    "G = nx.Graph()"
   ]
  },
  {
   "cell_type": "markdown",
   "id": "76e86e97",
   "metadata": {},
   "source": [
    "Add nodes of multiple types to this graph object, at least one node of each type int, str, tuple. (Maximum 10 nodes)\n"
   ]
  },
  {
   "cell_type": "code",
   "execution_count": 3,
   "id": "7f85b203",
   "metadata": {},
   "outputs": [],
   "source": [
    "G.add_node(1) ## adding 0ne node"
   ]
  },
  {
   "cell_type": "markdown",
   "id": "98bb1310",
   "metadata": {},
   "source": [
    "### adding nodes of integer,string and tuple data type respectively"
   ]
  },
  {
   "cell_type": "code",
   "execution_count": 4,
   "id": "1d048827",
   "metadata": {},
   "outputs": [],
   "source": [
    "G.add_node(1)\n",
    "G.add_node(\"string\")\n",
    "G.add_node((6,2))"
   ]
  },
  {
   "cell_type": "code",
   "execution_count": null,
   "id": "4c60504a",
   "metadata": {},
   "outputs": [],
   "source": []
  },
  {
   "cell_type": "markdown",
   "id": "65094a7e",
   "metadata": {},
   "source": [
    "### adding nodes to an iterable container called list"
   ]
  },
  {
   "cell_type": "code",
   "execution_count": 5,
   "id": "aa1b95a7",
   "metadata": {},
   "outputs": [],
   "source": [
    "G.add_nodes_from([4,5])\n"
   ]
  },
  {
   "cell_type": "markdown",
   "id": "2af3af3d",
   "metadata": {},
   "source": [
    "### adding  nodes along with node attributes\n",
    "\n"
   ]
  },
  {
   "cell_type": "code",
   "execution_count": 6,
   "id": "4bdb844e",
   "metadata": {},
   "outputs": [],
   "source": [
    "G.add_nodes_from([('string',{'color':'blue'})])\n"
   ]
  },
  {
   "cell_type": "markdown",
   "id": "ee7d265c",
   "metadata": {},
   "source": [
    "### adding edges between the nodes\n",
    "\n"
   ]
  },
  {
   "cell_type": "code",
   "execution_count": 7,
   "id": "4b8a4b18",
   "metadata": {},
   "outputs": [],
   "source": [
    "G.add_edge(4,1)\n",
    "G.add_edges_from([(1,2),(1,3),(1,'string'),(2,3),('string1',1),(1,'string'),(1,(6,2)),(2,5),((6,2),'string'),('string',4)])\n"
   ]
  },
  {
   "cell_type": "markdown",
   "id": "f5602cb7",
   "metadata": {},
   "source": [
    "Find the shortest path between all pairs of nodes in this graph and print them.\n"
   ]
  },
  {
   "cell_type": "markdown",
   "id": "bdcb9a30",
   "metadata": {},
   "source": [
    "### Calculating shortest path between all nodes in the graph"
   ]
  },
  {
   "cell_type": "code",
   "execution_count": 9,
   "id": "d6cae878",
   "metadata": {},
   "outputs": [
    {
     "name": "stdout",
     "output_type": "stream",
     "text": [
      "Printing shortest path\n",
      "From 1\n",
      "To string : [1, 'string']\n",
      "To (6, 2) : [1, (6, 2)]\n",
      "To 4 : [1, 4]\n",
      "To 5 : [1, 2, 5]\n",
      "To 2 : [1, 2]\n",
      "To 3 : [1, 3]\n",
      "To string1 : [1, 'string1']\n",
      "From string\n",
      "To 1 : ['string', 1]\n",
      "To (6, 2) : ['string', (6, 2)]\n",
      "To 4 : ['string', 4]\n",
      "To 5 : ['string', 1, 2, 5]\n",
      "To 2 : ['string', 1, 2]\n",
      "To 3 : ['string', 1, 3]\n",
      "To string1 : ['string', 1, 'string1']\n",
      "From (6, 2)\n",
      "To 1 : [(6, 2), 1]\n",
      "To string : [(6, 2), 'string']\n",
      "To 4 : [(6, 2), 1, 4]\n",
      "To 5 : [(6, 2), 1, 2, 5]\n",
      "To 2 : [(6, 2), 1, 2]\n",
      "To 3 : [(6, 2), 1, 3]\n",
      "To string1 : [(6, 2), 1, 'string1']\n",
      "From 4\n",
      "To 1 : [4, 1]\n",
      "To string : [4, 'string']\n",
      "To (6, 2) : [4, 1, (6, 2)]\n",
      "To 5 : [4, 1, 2, 5]\n",
      "To 2 : [4, 1, 2]\n",
      "To 3 : [4, 1, 3]\n",
      "To string1 : [4, 1, 'string1']\n",
      "From 5\n",
      "To 1 : [5, 2, 1]\n",
      "To string : [5, 2, 1, 'string']\n",
      "To (6, 2) : [5, 2, 1, (6, 2)]\n",
      "To 4 : [5, 2, 1, 4]\n",
      "To 2 : [5, 2]\n",
      "To 3 : [5, 2, 3]\n",
      "To string1 : [5, 2, 1, 'string1']\n",
      "From 2\n",
      "To 1 : [2, 1]\n",
      "To string : [2, 1, 'string']\n",
      "To (6, 2) : [2, 1, (6, 2)]\n",
      "To 4 : [2, 1, 4]\n",
      "To 5 : [2, 5]\n",
      "To 3 : [2, 3]\n",
      "To string1 : [2, 1, 'string1']\n",
      "From 3\n",
      "To 1 : [3, 1]\n",
      "To string : [3, 1, 'string']\n",
      "To (6, 2) : [3, 1, (6, 2)]\n",
      "To 4 : [3, 1, 4]\n",
      "To 5 : [3, 2, 5]\n",
      "To 2 : [3, 2]\n",
      "To string1 : [3, 1, 'string1']\n",
      "From string1\n",
      "To 1 : ['string1', 1]\n",
      "To string : ['string1', 1, 'string']\n",
      "To (6, 2) : ['string1', 1, (6, 2)]\n",
      "To 4 : ['string1', 1, 4]\n",
      "To 5 : ['string1', 1, 2, 5]\n",
      "To 2 : ['string1', 1, 2]\n",
      "To 3 : ['string1', 1, 3]\n"
     ]
    },
    {
     "data": {
      "image/png": "[encoded data removed]",
      "text/plain": [
       "<Figure size 432x288 with 1 Axes>"
      ]
     },
     "metadata": {},
     "output_type": "display_data"
    }
   ],
   "source": [
    "p=nx.shortest_path(G)\n",
    "print('Printing shortest path')\n",
    "#Storing existing nodes in the graph\n",
    "G_node = G.nodes\n",
    "for index,node in enumerate(G_node):\n",
    "    print('From',node)\n",
    "    for index2,node2 in enumerate(G_node):\n",
    "        if index!=index2 and nx.has_path(G, node, node2):\n",
    "            print('To', node2, ':', p[node][node2])\n",
    "#Plotting the graph\n",
    "nx.draw(G,pos=nx.circular_layout(G),with_labels=True)\n",
    "plt.show()\n"
   ]
  },
  {
   "cell_type": "code",
   "execution_count": null,
   "id": "851c5452",
   "metadata": {},
   "outputs": [],
   "source": []
  }
 ],
 "metadata": {
  "kernelspec": {
   "display_name": "Python 3",
   "language": "python",
   "name": "python3"
  },
  "language_info": {
   "codemirror_mode": {
    "name": "ipython",
    "version": 3
   },
   "file_extension": ".py",
   "mimetype": "text/x-python",
   "name": "python",
   "nbconvert_exporter": "python",
   "pygments_lexer": "ipython3",
   "version": "3.8.8"
  }
 },
 "nbformat": 4,
 "nbformat_minor": 5
}
